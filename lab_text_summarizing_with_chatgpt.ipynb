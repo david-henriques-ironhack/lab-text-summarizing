{
  "cells": [
    {
      "cell_type": "markdown",
      "metadata": {
        "id": "hETFNmaPIUTG"
      },
      "source": [
        "# Text summarizing with ChaptGPT\n",
        "In this lesson, you will summarize text with a focus on specific topics.\n",
        "\n",
        "## Setup"
      ]
    },
    {
      "cell_type": "code",
      "execution_count": 1,
      "metadata": {
        "tags": [],
        "colab": {
          "base_uri": "https://localhost:8080/",
          "height": 393
        },
        "id": "dEdmrrjOIUTI",
        "outputId": "9bd5a1ea-3a98-434b-8490-f9b98ed16d85"
      },
      "outputs": [
        {
          "output_type": "error",
          "ename": "ModuleNotFoundError",
          "evalue": "No module named 'dotenv'",
          "traceback": [
            "\u001b[0;31m---------------------------------------------------------------------------\u001b[0m",
            "\u001b[0;31mModuleNotFoundError\u001b[0m                       Traceback (most recent call last)",
            "\u001b[0;32m<ipython-input-1-1ce732637dbc>\u001b[0m in \u001b[0;36m<cell line: 0>\u001b[0;34m()\u001b[0m\n\u001b[1;32m      2\u001b[0m \u001b[0;32mimport\u001b[0m \u001b[0mos\u001b[0m\u001b[0;34m\u001b[0m\u001b[0;34m\u001b[0m\u001b[0m\n\u001b[1;32m      3\u001b[0m \u001b[0;34m\u001b[0m\u001b[0m\n\u001b[0;32m----> 4\u001b[0;31m \u001b[0;32mfrom\u001b[0m \u001b[0mdotenv\u001b[0m \u001b[0;32mimport\u001b[0m \u001b[0mload_dotenv\u001b[0m\u001b[0;34m,\u001b[0m \u001b[0mfind_dotenv\u001b[0m\u001b[0;34m\u001b[0m\u001b[0;34m\u001b[0m\u001b[0m\n\u001b[0m\u001b[1;32m      5\u001b[0m \u001b[0m_\u001b[0m \u001b[0;34m=\u001b[0m \u001b[0mload_dotenv\u001b[0m\u001b[0;34m(\u001b[0m\u001b[0mfind_dotenv\u001b[0m\u001b[0;34m(\u001b[0m\u001b[0;34m)\u001b[0m\u001b[0;34m)\u001b[0m \u001b[0;31m# read local .env file\u001b[0m\u001b[0;34m\u001b[0m\u001b[0;34m\u001b[0m\u001b[0m\n\u001b[1;32m      6\u001b[0m \u001b[0;34m\u001b[0m\u001b[0m\n",
            "\u001b[0;31mModuleNotFoundError\u001b[0m: No module named 'dotenv'",
            "",
            "\u001b[0;31m---------------------------------------------------------------------------\u001b[0;32m\nNOTE: If your import is failing due to a missing package, you can\nmanually install dependencies using either !pip or !apt.\n\nTo view examples of installing some common dependencies, click the\n\"Open Examples\" button below.\n\u001b[0;31m---------------------------------------------------------------------------\u001b[0m\n"
          ],
          "errorDetails": {
            "actions": [
              {
                "action": "open_url",
                "actionText": "Open Examples",
                "url": "/notebooks/snippets/importing_libraries.ipynb"
              }
            ]
          }
        }
      ],
      "source": [
        "from openai import OpenAI\n",
        "import os\n",
        "\n",
        "from dotenv import load_dotenv, find_dotenv\n",
        "_ = load_dotenv(find_dotenv()) # read local .env file\n",
        "\n",
        "OPENAI_API_KEY  = os.getenv('key.txt')"
      ]
    },
    {
      "cell_type": "code",
      "source": [
        "import openai\n",
        "\n",
        "with open('key.txt', 'r') as file:\n",
        "    OPENAI_API_KEY = file.read().strip()\n",
        "\n"
      ],
      "metadata": {
        "id": "YmuPGJrpIhZw"
      },
      "execution_count": 4,
      "outputs": []
    },
    {
      "cell_type": "code",
      "execution_count": 5,
      "metadata": {
        "tags": [],
        "id": "cxDQZy66IUTI"
      },
      "outputs": [],
      "source": [
        "client = OpenAI(\n",
        "    # This is the default and can be omitted\n",
        "    api_key=OPENAI_API_KEY,\n",
        ")\n",
        "\n",
        "\n",
        "def get_completion(prompt, model=\"gpt-3.5-turbo\"): # Andrew mentioned that the prompt/ completion paradigm is preferable for this class\n",
        "    messages = [{\"role\": \"user\", \"content\": prompt}]\n",
        "    response = client.chat.completions.create(\n",
        "        model=model,\n",
        "        messages=messages,\n",
        "        temperature=0, # this is the degree of randomness of the model's output\n",
        "    )\n",
        "    return response.choices[0].message.content\n"
      ]
    },
    {
      "cell_type": "markdown",
      "metadata": {
        "id": "zsRFitO5IUTJ"
      },
      "source": [
        "## Text to summarize"
      ]
    },
    {
      "cell_type": "code",
      "execution_count": 6,
      "metadata": {
        "tags": [],
        "id": "Qrr9p02gIUTJ"
      },
      "outputs": [],
      "source": [
        "prod_review = \"\"\"\n",
        "Got this panda plush toy for my daughter's birthday, \\\n",
        "who loves it and takes it everywhere. It's soft and \\\n",
        "super cute, and its face has a friendly look. It's \\\n",
        "a bit small for what I paid though. I think there \\\n",
        "might be other options that are bigger for the \\\n",
        "same price. It arrived a day earlier than expected, \\\n",
        "so I got to play with it myself before I gave it \\\n",
        "to her.\n",
        "\"\"\""
      ]
    },
    {
      "cell_type": "markdown",
      "metadata": {
        "id": "6RZeak-vIUTJ"
      },
      "source": [
        "## Summarize with a word/sentence/character limit"
      ]
    },
    {
      "cell_type": "code",
      "execution_count": 7,
      "metadata": {
        "tags": [],
        "colab": {
          "base_uri": "https://localhost:8080/"
        },
        "id": "Pmxgs_iLIUTK",
        "outputId": "4e515e60-1acf-43c2-b394-b51d6bda358a"
      },
      "outputs": [
        {
          "output_type": "stream",
          "name": "stdout",
          "text": [
            "Summary: \n",
            "Soft and cute panda plush toy loved by daughter, but smaller than expected for the price. Arrived early, allowing for personal enjoyment before gifting.\n"
          ]
        }
      ],
      "source": [
        "prompt = f\"\"\"\n",
        "Your task is to generate a short summary of a product \\\n",
        "review from an ecommerce site.\n",
        "\n",
        "Summarize the review below, delimited by triple\n",
        "backticks, in at most 30 words.\n",
        "\n",
        "Review: ```{prod_review}```\n",
        "\"\"\"\n",
        "\n",
        "response = get_completion(prompt)\n",
        "print(response)\n"
      ]
    },
    {
      "cell_type": "markdown",
      "metadata": {
        "id": "smNAxHaWIUTK"
      },
      "source": [
        "## Summarize with a focus on shipping and delivery"
      ]
    },
    {
      "cell_type": "code",
      "execution_count": 8,
      "metadata": {
        "tags": [],
        "colab": {
          "base_uri": "https://localhost:8080/"
        },
        "id": "YfWsiVY1IUTL",
        "outputId": "9f794c6d-5d01-4289-ee6f-c4370db82565"
      },
      "outputs": [
        {
          "output_type": "stream",
          "name": "stdout",
          "text": [
            "The customer loved the panda plush toy, finding it soft and cute. However, they felt it was a bit small for the price paid. Shipping was faster than expected.\n"
          ]
        }
      ],
      "source": [
        "prompt = f\"\"\"\n",
        "Your task is to generate a short summary of a product \\\n",
        "review from an ecommerce site to give feedback to the \\\n",
        "Shipping deparmtment.\n",
        "\n",
        "Summarize the review below, delimited by triple\n",
        "backticks, in at most 30 words, and focusing on any aspects \\\n",
        "that mention shipping and delivery of the product.\n",
        "\n",
        "Review: ```{prod_review}```\n",
        "\"\"\"\n",
        "\n",
        "response = get_completion(prompt)\n",
        "print(response)\n"
      ]
    },
    {
      "cell_type": "markdown",
      "metadata": {
        "id": "JhYZTAJaIUTL"
      },
      "source": [
        "## Summarize with a focus on price and value"
      ]
    },
    {
      "cell_type": "code",
      "execution_count": 9,
      "metadata": {
        "tags": [],
        "colab": {
          "base_uri": "https://localhost:8080/"
        },
        "id": "UZrUM7UHIUTL",
        "outputId": "08f307ad-6ebc-4f05-d0cb-30097ea0b80f"
      },
      "outputs": [
        {
          "output_type": "stream",
          "name": "stdout",
          "text": [
            "The panda plush toy is loved for its softness and cuteness, but some customers feel it's a bit small for the price.\n"
          ]
        }
      ],
      "source": [
        "prompt = f\"\"\"\n",
        "Your task is to generate a short summary of a product \\\n",
        "review from an ecommerce site to give feedback to the \\\n",
        "pricing deparmtment, responsible for determining the \\\n",
        "price of the product.\n",
        "\n",
        "Summarize the review below, delimited by triple\n",
        "backticks, in at most 30 words, and focusing on any aspects \\\n",
        "that are relevant to the price and perceived value.\n",
        "\n",
        "Review: ```{prod_review}```\n",
        "\"\"\"\n",
        "\n",
        "response = get_completion(prompt)\n",
        "print(response)\n"
      ]
    },
    {
      "cell_type": "markdown",
      "metadata": {
        "id": "aBkp4cyWIUTM"
      },
      "source": [
        "#### Comment\n",
        "- Summaries include topics that are not related to the topic of focus."
      ]
    },
    {
      "cell_type": "markdown",
      "metadata": {
        "id": "kQcDIcmgIUTM"
      },
      "source": [
        "## Try \"extract\" instead of \"summarize\""
      ]
    },
    {
      "cell_type": "code",
      "execution_count": 10,
      "metadata": {
        "tags": [],
        "colab": {
          "base_uri": "https://localhost:8080/"
        },
        "id": "SKtPB8_1IUTM",
        "outputId": "8410f582-7294-4f1f-ebae-39afae682843"
      },
      "outputs": [
        {
          "output_type": "stream",
          "name": "stdout",
          "text": [
            "Feedback: The product arrived a day earlier than expected, allowing the customer to play with it before giving it as a gift.\n"
          ]
        }
      ],
      "source": [
        "prompt = f\"\"\"\n",
        "Your task is to extract relevant information from \\\n",
        "a product review from an ecommerce site to give \\\n",
        "feedback to the Shipping department.\n",
        "\n",
        "From the review below, delimited by triple quotes \\\n",
        "extract the information relevant to shipping and \\\n",
        "delivery. Limit to 30 words.\n",
        "\n",
        "Review: ```{prod_review}```\n",
        "\"\"\"\n",
        "\n",
        "response = get_completion(prompt)\n",
        "print(response)"
      ]
    },
    {
      "cell_type": "markdown",
      "metadata": {
        "id": "to8sk9W2IUTM"
      },
      "source": [
        "## Summarize multiple product reviews"
      ]
    },
    {
      "cell_type": "code",
      "execution_count": 11,
      "metadata": {
        "tags": [],
        "id": "XMMbdkOMIUTM"
      },
      "outputs": [],
      "source": [
        "\n",
        "review_1 = prod_review\n",
        "\n",
        "# review for a standing lamp\n",
        "review_2 = \"\"\"\n",
        "Needed a nice lamp for my bedroom, and this one \\\n",
        "had additional storage and not too high of a price \\\n",
        "point. Got it fast - arrived in 2 days. The string \\\n",
        "to the lamp broke during the transit and the company \\\n",
        "happily sent over a new one. Came within a few days \\\n",
        "as well. It was easy to put together. Then I had a \\\n",
        "missing part, so I contacted their support and they \\\n",
        "very quickly got me the missing piece! Seems to me \\\n",
        "to be a great company that cares about their customers \\\n",
        "and products.\n",
        "\"\"\"\n",
        "\n",
        "# review for an electric toothbrush\n",
        "review_3 = \"\"\"\n",
        "My dental hygienist recommended an electric toothbrush, \\\n",
        "which is why I got this. The battery life seems to be \\\n",
        "pretty impressive so far. After initial charging and \\\n",
        "leaving the charger plugged in for the first week to \\\n",
        "condition the battery, I've unplugged the charger and \\\n",
        "been using it for twice daily brushing for the last \\\n",
        "3 weeks all on the same charge. But the toothbrush head \\\n",
        "is too small. I’ve seen baby toothbrushes bigger than \\\n",
        "this one. I wish the head was bigger with different \\\n",
        "length bristles to get between teeth better because \\\n",
        "this one doesn’t.  Overall if you can get this one \\\n",
        "around the $50 mark, it's a good deal. The manufactuer's \\\n",
        "replacements heads are pretty expensive, but you can \\\n",
        "get generic ones that're more reasonably priced. This \\\n",
        "toothbrush makes me feel like I've been to the dentist \\\n",
        "every day. My teeth feel sparkly clean!\n",
        "\"\"\"\n",
        "\n",
        "# review for a blender\n",
        "review_4 = \"\"\"\n",
        "So, they still had the 17 piece system on seasonal \\\n",
        "sale for around $49 in the month of November, about \\\n",
        "half off, but for some reason (call it price gouging) \\\n",
        "around the second week of December the prices all went \\\n",
        "up to about anywhere from between $70-$89 for the same \\\n",
        "system. And the 11 piece system went up around $10 or \\\n",
        "so in price also from the earlier sale price of $29. \\\n",
        "So it looks okay, but if you look at the base, the part \\\n",
        "where the blade locks into place doesn’t look as good \\\n",
        "as in previous editions from a few years ago, but I \\\n",
        "plan to be very gentle with it (example, I crush \\\n",
        "very hard items like beans, ice, rice, etc. in the \\\n",
        "blender first then pulverize them in the serving size \\\n",
        "I want in the blender then switch to the whipping \\\n",
        "blade for a finer flour, and use the cross cutting blade \\\n",
        "first when making smoothies, then use the flat blade \\\n",
        "if I need them finer/less pulpy). Special tip when making \\\n",
        "smoothies, finely cut and freeze the fruits and \\\n",
        "vegetables (if using spinach-lightly stew soften the \\\n",
        "spinach then freeze until ready for use-and if making \\\n",
        "sorbet, use a small to medium sized food processor) \\\n",
        "that you plan to use that way you can avoid adding so \\\n",
        "much ice if at all-when making your smoothie. \\\n",
        "After about a year, the motor was making a funny noise. \\\n",
        "I called customer service but the warranty expired \\\n",
        "already, so I had to buy another one. FYI: The overall \\\n",
        "quality has gone done in these types of products, so \\\n",
        "they are kind of counting on brand recognition and \\\n",
        "consumer loyalty to maintain sales. Got it in about \\\n",
        "two days.\n",
        "\"\"\"\n",
        "\n",
        "reviews = [review_1, review_2, review_3, review_4]"
      ]
    },
    {
      "cell_type": "code",
      "execution_count": null,
      "metadata": {
        "tags": [],
        "id": "O4oFKPLNIUTN",
        "outputId": "c4f6f133-ef84-4c48-83d2-2e7f680e3d97"
      },
      "outputs": [
        {
          "name": "stdout",
          "output_type": "stream",
          "text": [
            "0 Summary: \n",
            "Adorable panda plush loved by daughter, but small for price. Arrived early, soft and cute. \n",
            "\n",
            "1 Great lamp with storage, fast delivery, excellent customer service for missing parts. Easy to assemble. \n",
            "\n",
            "2 Impressive battery life, small brush head, good deal for $50, generic replacement heads available, leaves teeth feeling clean. \n",
            "\n",
            "3 Prices fluctuated, quality declined, motor issues after a year, frozen fruits tip for smoothies, brand loyalty. \n",
            "\n"
          ]
        }
      ],
      "source": [
        "for i in range(len(reviews)):\n",
        "    prompt = f\"\"\"\n",
        "    Your task is to generate a short summary of a product \\\n",
        "    review from an ecommerce site.\n",
        "\n",
        "    Summarize the review below, delimited by triple \\\n",
        "    backticks in at most 20 words.\n",
        "\n",
        "    Review: ```{reviews[i]}```\n",
        "    \"\"\"\n",
        "\n",
        "    response = get_completion(prompt)\n",
        "    print(i, response, \"\\n\")"
      ]
    },
    {
      "cell_type": "markdown",
      "metadata": {
        "id": "pOUEWRa-IUTN"
      },
      "source": [
        "# Exercise\n",
        " - Complete the prompts similar to what we did in class.\n",
        "     - Try at least 3 versions\n",
        "     - Be creative\n",
        " - Write a one page report summarizing your findings.\n",
        "     - Were there variations that didn't work well? i.e., where GPT either hallucinated or wrong\n",
        " - What did you learn?"
      ]
    },
    {
      "cell_type": "code",
      "execution_count": 12,
      "metadata": {
        "id": "Hhsl8K3WIUTN"
      },
      "outputs": [],
      "source": [
        "# review for Callaway\n",
        "review_1 = \"\"\"\n",
        "The Callaway Apex 21 irons represent a significant evolution in Callaway’s lineup, being the first in the Apex series designed with artificial intelligence. This innovation optimizes ball speed and distance consistency through Flash Face Cup technology. Their forged construction provides a soft feel and precise response on every shot, which has been widely praised by intermediate and advanced golfers. Additionally, the inclusion of Tungsten Energy Core allows for precise weight distribution, enhancing launch and control with each swing. Players highlight the solid feel and satisfying sound upon impact, as well as the ease with which these irons generate higher ball speeds and optimal trajectory, even on off-center hits. With a classic aesthetic and high-level performance, the Callaway Apex 21 is ideal for golfers seeking a balanced combination of innovation and tradition in their equipment..\n",
        "\"\"\"\n",
        "\n",
        "# review Taylormade\n",
        "review_2 = \"\"\"\n",
        "the TaylorMade P790 (2023) has set a benchmark for combining distance and forgiveness in a sophisticated design. This set is tailored for golfers looking for advanced performance without sacrificing the classic look of a forged iron. The SpeedFoam Air technology, an ultralight foam injected into the clubhead, enhances ball speed while optimizing feel and sound, offering more refined feedback on every shot. Adding to this is the Thru-Slot Speed Pocket, a slot in the sole that maximizes face flexibility, resulting in greater speed and distance, especially on low-face strikes. The hollow body forged construction combines 8620 carbon steel with a 4140 stainless steel face, improving impact feel while ensuring exceptional durability. Players have reported significant improvements in distance without sacrificing control, along with excellent shot consistency, even on mis-hits. With its slim profile and appealing design, the TaylorMade P790 stands out as a premier choice for intermediate and advanced golfers seeking a blend of distance, control, and premium feel.\n",
        "\"\"\"\n",
        "\n",
        "# review for Titlest\n",
        "review_3 = \"\"\"\n",
        "the Titleist T100 irons have been widely recognized as the most used irons on the Tour, which speaks volumes about their quality and precision. Designed for low-handicap players who demand total control and an unparalleled feel, these irons feature a forged dual-cavity construction, providing a more solid sensation and consistent feedback upon impact. With CNC precision milling, ball contact is more uniform, enhancing accuracy and shot consistency. Their refined design, with a thinner topline and reduced offset, offers a clean and professional aesthetic that appeals to the most discerning golfers. In terms of performance, players highlight the T100’s ability to deliver exceptional control and pure feel on every swing, allowing for easy shot shaping and ensuring smooth turf interaction. This set is the perfect choice for elite golfers who prioritize maximum precision and reliability on the course, cementing its reputation as one of the best iron sets available today.\n",
        "\"\"\"\n",
        "\n",
        "reviews = [review_1, review_2, review_3]"
      ]
    },
    {
      "cell_type": "code",
      "source": [
        "for i in range(len(reviews)):\n",
        "    prompt = f\"\"\"\n",
        "    Your task is to generate a short summary of a product \\\n",
        "    review from a online golf store.\n",
        "\n",
        "    Summarize the review below,in at most 20 words.\n",
        "\n",
        "    Review: ```{reviews[i]}```\n",
        "    \"\"\"\n",
        "\n",
        "    response = get_completion(prompt)\n",
        "    print(i, response, \"\\n\")"
      ],
      "metadata": {
        "colab": {
          "base_uri": "https://localhost:8080/"
        },
        "id": "uohPT1_9Lm3s",
        "outputId": "850c2278-0c54-4b41-87de-95eca603e12f"
      },
      "execution_count": 13,
      "outputs": [
        {
          "output_type": "stream",
          "name": "stdout",
          "text": [
            "0 Callaway Apex 21 irons offer AI technology, forged construction, and Tungsten Energy Core for optimal performance and feel. \n",
            "\n",
            "1 TaylorMade P790 (2023) offers distance, forgiveness, and premium feel for intermediate to advanced golfers seeking performance and style. \n",
            "\n",
            "2 Titleist T100 irons: Tour-proven quality, precision, and control for elite golfers seeking maximum performance and reliability. \n",
            "\n"
          ]
        }
      ]
    },
    {
      "cell_type": "code",
      "source": [
        "chapter_1 = \"In Chapter 4, Don Quixote, eager to perform acts of chivalry, encounters a young boy, Andrés, being whipped by his master, a farmer named Juan Haldudo. Quixote intervenes, forcing the farmer to promise fair treatment. However, as soon as Quixote leaves, the farmer resumes beating Andrés even worse than before. This moment highlights Quixote’s good intentions but also his detachment from reality, as he fails to ensure true justice.\"\n",
        "chapter_2 = \"In Chapter 5, after being beaten by a group of merchants, Quixote is left injured on the ground. A neighbor finds him and carries him home, where his housekeeper, niece, and priest express their concern over his madness. They recognize that his obsession with knightly tales has led him to these reckless actions. This chapter emphasizes Quixote’s vulnerability and the growing concern of those around him.\"\n",
        "chapter_3 = \"In Chapter 6, the priest and the barber decide to burn most of Quixote’s books in an attempt to cure his madness. They review his vast collection of chivalric novels, condemning some and sparing others. Many are thrown into the fire, while others are hidden to prevent him from reading them again. This symbolic act represents society’s attempt to suppress dangerous fantasies and bring Quixote back to reality.\"\n",
        "chapter_4 = \"In Chapter 7, after recovering, Don Quixote prepares for a second adventure. His loyal squire, Sancho Panza, is introduced as a simple but practical peasant who agrees to follow him in hopes of gaining an island to rule. The two set off on their journey, marking the beginning of their famous companionship. Sancho’s pragmatism contrasts with Quixote’s idealism, setting the stage for the novel’s satirical and comedic elements.\"\n",
        "\n",
        "chapter = [chapter_1, chapter_2, chapter_3, chapter_4]"
      ],
      "metadata": {
        "id": "_kkTzKr-Lzny"
      },
      "execution_count": 18,
      "outputs": []
    },
    {
      "cell_type": "code",
      "source": [
        "for i in range(len(chapter)):\n",
        "    prompt = f\"\"\"\n",
        "    You are an expert in spanish literature.\n",
        "\n",
        "    Summarize the given chapters in 20 words.\n",
        "\n",
        "    Chapter: ```{chapter[i]}```\n",
        "    \"\"\"\n",
        "\n",
        "    response = get_completion(prompt)\n",
        "    print(i, response, \"\\n\")"
      ],
      "metadata": {
        "colab": {
          "base_uri": "https://localhost:8080/"
        },
        "id": "N0eQ_qiwM1ql",
        "outputId": "0e2980d4-3471-4486-e328-04fde4852887"
      },
      "execution_count": 19,
      "outputs": [
        {
          "output_type": "stream",
          "name": "stdout",
          "text": [
            "0 Don Quixote intervenes to stop a boy from being whipped, but his actions do not lead to lasting justice. \n",
            "\n",
            "1 Quixote is beaten by merchants, left injured. Neighbor finds him, expresses concern over his madness and reckless actions. \n",
            "\n",
            "2 Priest and barber burn Quixote's books to cure his madness, symbolizing society's attempt to suppress dangerous fantasies and restore reality. \n",
            "\n",
            "3 Don Quixote recovers and prepares for a new adventure with loyal squire Sancho Panza, showcasing their contrasting personalities. \n",
            "\n"
          ]
        }
      ]
    },
    {
      "cell_type": "code",
      "source": [
        "#Using OpenAI’s API for text summarization, I evaluated its ability to extract key information concisely and accurately.\n",
        "\n",
        "#Hallucinations: GPT didn't introduced information not in the original text.\n",
        "\n",
        "#Loss of Key Details: The summaries are compleate and easy to understand.\n",
        "\n",
        "#Over-Generalization: It captured essential data about the reviews."
      ],
      "metadata": {
        "id": "vQfe0np-NBK8"
      },
      "execution_count": null,
      "outputs": []
    }
  ],
  "metadata": {
    "kernelspec": {
      "display_name": "Python 3 (ipykernel)",
      "language": "python",
      "name": "python3"
    },
    "language_info": {
      "codemirror_mode": {
        "name": "ipython",
        "version": 3
      },
      "file_extension": ".py",
      "mimetype": "text/x-python",
      "name": "python",
      "nbconvert_exporter": "python",
      "pygments_lexer": "ipython3",
      "version": "3.11.8"
    },
    "colab": {
      "provenance": []
    }
  },
  "nbformat": 4,
  "nbformat_minor": 0
}