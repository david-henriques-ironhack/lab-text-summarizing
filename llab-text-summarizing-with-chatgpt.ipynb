{
  "cells": [
    {
      "cell_type": "markdown",
      "metadata": {
        "id": "yd1ajQjOgbir"
      },
      "source": [
        "# Text summarizing with ChaptGPT\n",
        "In this lesson, you will summarize text with a focus on specific topics.\n",
        "\n",
        "## Setup"
      ]
    },
    {
      "cell_type": "code",
      "execution_count": 2,
      "metadata": {
        "tags": [],
        "id": "nMPii-GJgbit"
      },
      "outputs": [],
      "source": [
        "from openai import OpenAI\n",
        "import os\n",
        "\n",
        "with open('openai-api.txt', 'r') as file:\n",
        "    OPENAI_API_KEY = file.read().strip()\n",
        "\n",
        "#from dotenv import load_dotenv, find_dotenv\n",
        "#_ = load_dotenv(find_dotenv()) # read local .env file\n",
        "\n",
        "#OPENAI_API_KEY  = os.getenv('openai_key')"
      ]
    },
    {
      "cell_type": "code",
      "execution_count": 4,
      "metadata": {
        "tags": [],
        "id": "8iv608PYgbit"
      },
      "outputs": [],
      "source": [
        "client = OpenAI(\n",
        "    # This is the default and can be omitted\n",
        "    api_key=OPENAI_API_KEY,\n",
        ")\n",
        "\n",
        "\n",
        "def get_completion(prompt, model=\"gpt-3.5-turbo\"): # Andrew mentioned that the prompt/ completion paradigm is preferable for this class\n",
        "    messages = [{\"role\": \"user\", \"content\": prompt}]\n",
        "    response = client.chat.completions.create(\n",
        "        model=model,\n",
        "        messages=messages,\n",
        "        temperature=0, # this is the degree of randomness of the model's output\n",
        "    )\n",
        "    return response.choices[0].message.content\n"
      ]
    },
    {
      "cell_type": "markdown",
      "metadata": {
        "id": "arX2I2dQgbiu"
      },
      "source": [
        "## Text to summarize"
      ]
    },
    {
      "cell_type": "code",
      "execution_count": 5,
      "metadata": {
        "tags": [],
        "id": "Cmfzv0Blgbiu"
      },
      "outputs": [],
      "source": [
        "prod_review = \"\"\"\n",
        "Got this panda plush toy for my daughter's birthday, \\\n",
        "who loves it and takes it everywhere. It's soft and \\\n",
        "super cute, and its face has a friendly look. It's \\\n",
        "a bit small for what I paid though. I think there \\\n",
        "might be other options that are bigger for the \\\n",
        "same price. It arrived a day earlier than expected, \\\n",
        "so I got to play with it myself before I gave it \\\n",
        "to her.\n",
        "\"\"\""
      ]
    },
    {
      "cell_type": "markdown",
      "metadata": {
        "id": "png_I4qngbiu"
      },
      "source": [
        "## Summarize with a word/sentence/character limit"
      ]
    },
    {
      "cell_type": "code",
      "execution_count": 6,
      "metadata": {
        "tags": [],
        "colab": {
          "base_uri": "https://localhost:8080/"
        },
        "id": "s7_Bkya9gbiu",
        "outputId": "7180a518-3a8e-4a55-f857-8624f9d2e8d0"
      },
      "outputs": [
        {
          "output_type": "stream",
          "name": "stdout",
          "text": [
            "Summary: \n",
            "Soft and cute panda plush toy loved by daughter, but smaller than expected for the price. Arrived early, allowing for personal enjoyment before gifting.\n"
          ]
        }
      ],
      "source": [
        "prompt = f\"\"\"\n",
        "Your task is to generate a short summary of a product \\\n",
        "review from an ecommerce site.\n",
        "\n",
        "Summarize the review below, delimited by triple\n",
        "backticks, in at most 30 words.\n",
        "\n",
        "Review: ```{prod_review}```\n",
        "\"\"\"\n",
        "\n",
        "response = get_completion(prompt)\n",
        "print(response)\n"
      ]
    },
    {
      "cell_type": "markdown",
      "metadata": {
        "id": "NLg41dlngbiv"
      },
      "source": [
        "## Summarize with a focus on shipping and delivery"
      ]
    },
    {
      "cell_type": "code",
      "execution_count": 7,
      "metadata": {
        "tags": [],
        "colab": {
          "base_uri": "https://localhost:8080/"
        },
        "id": "eot-kY9ggbiv",
        "outputId": "46cdf326-3546-44f5-feea-e918c7698144"
      },
      "outputs": [
        {
          "output_type": "stream",
          "name": "stdout",
          "text": [
            "The customer was pleased with the early delivery of the panda plush toy, but felt it was slightly small for the price paid.\n"
          ]
        }
      ],
      "source": [
        "prompt = f\"\"\"\n",
        "Your task is to generate a short summary of a product \\\n",
        "review from an ecommerce site to give feedback to the \\\n",
        "Shipping deparmtment.\n",
        "\n",
        "Summarize the review below, delimited by triple\n",
        "backticks, in at most 30 words, and focusing on any aspects \\\n",
        "that mention shipping and delivery of the product.\n",
        "\n",
        "Review: ```{prod_review}```\n",
        "\"\"\"\n",
        "\n",
        "response = get_completion(prompt)\n",
        "print(response)\n"
      ]
    },
    {
      "cell_type": "markdown",
      "metadata": {
        "id": "QtkM2nYKgbiv"
      },
      "source": [
        "## Summarize with a focus on price and value"
      ]
    },
    {
      "cell_type": "code",
      "execution_count": 8,
      "metadata": {
        "tags": [],
        "colab": {
          "base_uri": "https://localhost:8080/"
        },
        "id": "1KhIuhN6gbiv",
        "outputId": "4ccad74d-9c85-4957-a133-eb3021b6fe26"
      },
      "outputs": [
        {
          "output_type": "stream",
          "name": "stdout",
          "text": [
            "The panda plush toy is loved for its softness and cuteness, but some customers feel it's a bit small for the price.\n"
          ]
        }
      ],
      "source": [
        "prompt = f\"\"\"\n",
        "Your task is to generate a short summary of a product \\\n",
        "review from an ecommerce site to give feedback to the \\\n",
        "pricing deparmtment, responsible for determining the \\\n",
        "price of the product.\n",
        "\n",
        "Summarize the review below, delimited by triple\n",
        "backticks, in at most 30 words, and focusing on any aspects \\\n",
        "that are relevant to the price and perceived value.\n",
        "\n",
        "Review: ```{prod_review}```\n",
        "\"\"\"\n",
        "\n",
        "response = get_completion(prompt)\n",
        "print(response)\n"
      ]
    },
    {
      "cell_type": "markdown",
      "metadata": {
        "id": "jTVMNTMjgbiv"
      },
      "source": [
        "#### Comment\n",
        "- Summaries include topics that are not related to the topic of focus."
      ]
    },
    {
      "cell_type": "markdown",
      "metadata": {
        "id": "GuaxKcDqgbiw"
      },
      "source": [
        "## Try \"extract\" instead of \"summarize\""
      ]
    },
    {
      "cell_type": "code",
      "execution_count": 9,
      "metadata": {
        "tags": [],
        "colab": {
          "base_uri": "https://localhost:8080/"
        },
        "id": "AG7-Blmbgbiw",
        "outputId": "6e7ab1ab-9f0f-4b0d-91cb-863be5359e8f"
      },
      "outputs": [
        {
          "output_type": "stream",
          "name": "stdout",
          "text": [
            "Feedback: The product arrived a day earlier than expected, which was a pleasant surprise. Customers may appreciate faster shipping times for future orders.\n"
          ]
        }
      ],
      "source": [
        "prompt = f\"\"\"\n",
        "Your task is to extract relevant information from \\\n",
        "a product review from an ecommerce site to give \\\n",
        "feedback to the Shipping department.\n",
        "\n",
        "From the review below, delimited by triple quotes \\\n",
        "extract the information relevant to shipping and \\\n",
        "delivery. Limit to 30 words.\n",
        "\n",
        "Review: ```{prod_review}```\n",
        "\"\"\"\n",
        "\n",
        "response = get_completion(prompt)\n",
        "print(response)"
      ]
    },
    {
      "cell_type": "markdown",
      "metadata": {
        "id": "RLSzS21Bgbiw"
      },
      "source": [
        "## Summarize multiple product reviews"
      ]
    },
    {
      "cell_type": "code",
      "execution_count": 10,
      "metadata": {
        "tags": [],
        "id": "6e0QUIOvgbiw"
      },
      "outputs": [],
      "source": [
        "\n",
        "review_1 = prod_review\n",
        "\n",
        "# review for a standing lamp\n",
        "review_2 = \"\"\"\n",
        "Needed a nice lamp for my bedroom, and this one \\\n",
        "had additional storage and not too high of a price \\\n",
        "point. Got it fast - arrived in 2 days. The string \\\n",
        "to the lamp broke during the transit and the company \\\n",
        "happily sent over a new one. Came within a few days \\\n",
        "as well. It was easy to put together. Then I had a \\\n",
        "missing part, so I contacted their support and they \\\n",
        "very quickly got me the missing piece! Seems to me \\\n",
        "to be a great company that cares about their customers \\\n",
        "and products.\n",
        "\"\"\"\n",
        "\n",
        "# review for an electric toothbrush\n",
        "review_3 = \"\"\"\n",
        "My dental hygienist recommended an electric toothbrush, \\\n",
        "which is why I got this. The battery life seems to be \\\n",
        "pretty impressive so far. After initial charging and \\\n",
        "leaving the charger plugged in for the first week to \\\n",
        "condition the battery, I've unplugged the charger and \\\n",
        "been using it for twice daily brushing for the last \\\n",
        "3 weeks all on the same charge. But the toothbrush head \\\n",
        "is too small. I’ve seen baby toothbrushes bigger than \\\n",
        "this one. I wish the head was bigger with different \\\n",
        "length bristles to get between teeth better because \\\n",
        "this one doesn’t.  Overall if you can get this one \\\n",
        "around the $50 mark, it's a good deal. The manufactuer's \\\n",
        "replacements heads are pretty expensive, but you can \\\n",
        "get generic ones that're more reasonably priced. This \\\n",
        "toothbrush makes me feel like I've been to the dentist \\\n",
        "every day. My teeth feel sparkly clean!\n",
        "\"\"\"\n",
        "\n",
        "# review for a blender\n",
        "review_4 = \"\"\"\n",
        "So, they still had the 17 piece system on seasonal \\\n",
        "sale for around $49 in the month of November, about \\\n",
        "half off, but for some reason (call it price gouging) \\\n",
        "around the second week of December the prices all went \\\n",
        "up to about anywhere from between $70-$89 for the same \\\n",
        "system. And the 11 piece system went up around $10 or \\\n",
        "so in price also from the earlier sale price of $29. \\\n",
        "So it looks okay, but if you look at the base, the part \\\n",
        "where the blade locks into place doesn’t look as good \\\n",
        "as in previous editions from a few years ago, but I \\\n",
        "plan to be very gentle with it (example, I crush \\\n",
        "very hard items like beans, ice, rice, etc. in the \\\n",
        "blender first then pulverize them in the serving size \\\n",
        "I want in the blender then switch to the whipping \\\n",
        "blade for a finer flour, and use the cross cutting blade \\\n",
        "first when making smoothies, then use the flat blade \\\n",
        "if I need them finer/less pulpy). Special tip when making \\\n",
        "smoothies, finely cut and freeze the fruits and \\\n",
        "vegetables (if using spinach-lightly stew soften the \\\n",
        "spinach then freeze until ready for use-and if making \\\n",
        "sorbet, use a small to medium sized food processor) \\\n",
        "that you plan to use that way you can avoid adding so \\\n",
        "much ice if at all-when making your smoothie. \\\n",
        "After about a year, the motor was making a funny noise. \\\n",
        "I called customer service but the warranty expired \\\n",
        "already, so I had to buy another one. FYI: The overall \\\n",
        "quality has gone done in these types of products, so \\\n",
        "they are kind of counting on brand recognition and \\\n",
        "consumer loyalty to maintain sales. Got it in about \\\n",
        "two days.\n",
        "\"\"\"\n",
        "\n",
        "reviews = [review_1, review_2, review_3, review_4]"
      ]
    },
    {
      "cell_type": "code",
      "execution_count": 11,
      "metadata": {
        "tags": [],
        "colab": {
          "base_uri": "https://localhost:8080/"
        },
        "id": "z8KbqiHggbiw",
        "outputId": "9943dd43-4326-4712-e854-54d8ff43b4f3"
      },
      "outputs": [
        {
          "output_type": "stream",
          "name": "stdout",
          "text": [
            "0 Summary: \n",
            "Adorable panda plush loved by daughter, but small for price. Arrived early, soft and cute. \n",
            "\n",
            "1 Great lamp with storage, fast delivery, excellent customer service for missing parts. Easy to assemble. \n",
            "\n",
            "2 Impressive battery life, small brush head, good deal for $50, generic replacement heads available, leaves teeth feeling clean. \n",
            "\n",
            "3 17-piece system on sale for $49, quality decline, motor issue after a year, price increase, customer service, brand loyalty. \n",
            "\n"
          ]
        }
      ],
      "source": [
        "for i in range(len(reviews)):\n",
        "    prompt = f\"\"\"\n",
        "    Your task is to generate a short summary of a product \\\n",
        "    review from an ecommerce site.\n",
        "\n",
        "    Summarize the review below, delimited by triple \\\n",
        "    backticks in at most 20 words.\n",
        "\n",
        "    Review: ```{reviews[i]}```\n",
        "    \"\"\"\n",
        "\n",
        "    response = get_completion(prompt)\n",
        "    print(i, response, \"\\n\")"
      ]
    },
    {
      "cell_type": "markdown",
      "metadata": {
        "id": "EcJGQZ4Zgbix"
      },
      "source": [
        "# Exercise\n",
        " - Complete the prompts similar to what we did in class.\n",
        "     - Try at least 3 versions\n",
        "     - Be creative\n",
        " - Write a one page report summarizing your findings.\n",
        "     - Were there variations that didn't work well? i.e., where GPT either hallucinated or wrong\n",
        " - What did you learn?"
      ]
    },
    {
      "cell_type": "code",
      "source": [
        "\n",
        "stay1 = \"\"\"The stay is great. It is a nice place and equipped with everything needed, to disconnect from the city.\\\n",
        "We have gone in winter and it is hot in the house without a problem, although it is true that I think that in the more heat period it would be enjoyed more.\\\n",
        "I definitely recommend it and the host's details help make it better!\\\n",
        "Yes it is true that being able to communicate with him is a little complicated since he did not respond until I called his number\"\"\"\n",
        "\n",
        "stay2 = \"\"\"we were two days we had a problem with the bikes and Miguel I do not solve it without a problem,\\\n",
        "the casita is very well missing touches but time for sure it will become a much more fantastic place. \\\n",
        "I charm the sofa outside perfect to see the stars handmade by him and his family like the furniture straight. \\\n",
        "the casita I thought it would be cold but that it is super hot, to me it seems it is missing a more comfortable sofa not to be sitting \\\n",
        "in the was uncomfortable the kitchen super useful and with everything you need. \\\n",
        "the bathroom very well equipped the only thing the shower has lost water that is a pity for the floor\\\n",
        "and other wooden furniture but a thousand congratulations for the accommodations follow family so you have it very nice and welcoming.\"\"\"\n",
        "\n",
        "stay3 = \"\"\"The domes are fantastic and just as described. Very peaceful and remote. Well equipped, comfortable bed, good shower, spacious.\\\n",
        "The deck is wonderful to chill out and star gaze from. Decent kitchen and utensils etc.\\\n",
        "Also an outside BBQ as required. We borrowed the bikes to explore a bit which was fun.\\\n",
        "Pool is great to cool off in. Overall a memorable place. Miguel very helpful as host. Thanks !\"\"\"\n",
        "\n",
        "stay4 = \"\"\"The dome is fine and the views are very nice. We spent two quiet days there. It's a space, in that regard, recommended.\\\n",
        "However, the communication with the host was not very good.\\\n",
        "I wrote to him 4 days before saying that he would arrive at night and ask where we would meet to go to the venue since he was in the countryside.\\\n",
        "He didn't respond to me through the app and had to write to him again, now on the phone, the day of our arrival.\\\n",
        "Although in the app it said the reception would be by the host and not autonomous, he told us that we had to go alone.\\\n",
        "Also you could not put the GPS and I was sending an explanatory video.\\\n",
        "As I let you know days before, we were arriving at night, it was raining...\\\n",
        "it was very difficult to find ourselves in those conditions, it took a good time and it was not pleasant.\\\n",
        "I told him that I found it inappropriate and that his thing would have been for him to guide us by staying in the village next door.\\\n",
        "He didn't even respond to my complaint, he just put a welcome \"short and paste\"\"\"\n",
        "\n",
        "stay_reviews = [stay1, stay2, stay3, stay4, ]"
      ],
      "metadata": {
        "id": "clEu7tiHBJCJ"
      },
      "execution_count": 12,
      "outputs": []
    },
    {
      "cell_type": "code",
      "execution_count": 13,
      "metadata": {
        "colab": {
          "base_uri": "https://localhost:8080/"
        },
        "id": "MKYIw8Nvgbix",
        "outputId": "fe7e0181-e673-4d58-d2b7-0a809d6f8427"
      },
      "outputs": [
        {
          "output_type": "stream",
          "name": "stdout",
          "text": [
            "0 Summary: Great stay in a nice place with all necessary amenities. Host's details enhance experience. Communication with host can be challenging.\n",
            "\n",
            "Quality of amenities: Equipped with everything needed, hot in winter, may be more enjoyable in warmer weather. \n",
            "\n",
            "1 Quality of amenities: The kitchen is super useful and well-equipped, the bathroom is very well equipped. The outdoor sofa handmade by the host is charming. \n",
            "\n",
            "2 Summary: The domes are fantastic, peaceful, and well-equipped. The deck is great for stargazing. Bikes available for exploring. Pool for cooling off. Host Miguel is helpful.\n",
            "\n",
            "Quality of amenities: Well-equipped, comfortable bed, good shower, spacious, decent kitchen and utensils, outside BBQ, pool. \n",
            "\n",
            "3 Quality of amenities: The dome is fine, views are very nice. Communication with host was poor, causing difficulty in finding the venue at night in the rain. \n",
            "\n"
          ]
        }
      ],
      "source": [
        "for i in range(len(stay_reviews)):\n",
        "    prompt = f\"\"\"\n",
        "    Your task is to generate a short summary of a stay \\\n",
        "    review from an vacation rental website.\n",
        "\n",
        "    Summarize the review below and extract \\\n",
        "    the information about the quality of amenities \\\n",
        "    delimited by triple backticks in at most 30 words.\n",
        "\n",
        "    Review: ```{stay_reviews[i]}```\n",
        "    \"\"\"\n",
        "\n",
        "    response = get_completion(prompt)\n",
        "    print(i, response, \"\\n\")"
      ]
    },
    {
      "cell_type": "code",
      "source": [
        "for i in range(len(stay_reviews)):\n",
        "    prompt = f\"\"\"\n",
        "    Your task is to generate a short summary of a stay \\\n",
        "    review from an vacation rental website.\n",
        "\n",
        "    Summarize the review below and extract \\\n",
        "    the information about positive or negative aspects \\\n",
        "    classifying in positive or negative at the beginning\\\n",
        "    delimited by triple backticks in at most 30 words.\n",
        "\n",
        "    Review: ```{stay_reviews[i]}```\n",
        "    \"\"\"\n",
        "\n",
        "    response = get_completion(prompt)\n",
        "    print(i, response, \"\\n\")"
      ],
      "metadata": {
        "colab": {
          "base_uri": "https://localhost:8080/"
        },
        "id": "shH2CZN7Bwgh",
        "outputId": "ca234526-2536-47c2-b1e4-21cf5cd9a608"
      },
      "execution_count": 14,
      "outputs": [
        {
          "output_type": "stream",
          "name": "stdout",
          "text": [
            "0 Positive: Great stay, well-equipped, cozy in winter. Negative: Communication with host difficult. Overall recommended for a city escape. \n",
            "\n",
            "1 Negative: Problem with bikes. \n",
            "Positive: Cozy casita with handmade furniture, useful kitchen, well-equipped bathroom. \n",
            "Overall, a fantastic place with potential to improve. \n",
            "\n",
            "2 Positive: Fantastic domes, peaceful and remote location, well-equipped, comfortable bed, good shower, spacious. Wonderful deck for stargazing, decent kitchen, bikes available for exploring, great pool, helpful host. \n",
            "\n",
            "3 Negative: Poor communication with host, difficult to find location at night in the rain. \n",
            "Positive: Dome and views were nice, quiet stay recommended. \n",
            "\n"
          ]
        }
      ]
    },
    {
      "cell_type": "code",
      "source": [
        "for i in range(len(stay_reviews)):\n",
        "    prompt = f\"\"\"\n",
        "    Your task is to generate a short summary of a stay \\\n",
        "    review from an vacation rental website.\n",
        "\n",
        "    Summarize the review below and extract \\\n",
        "    the information about the type of guest \\\n",
        "    delimited by triple backticks in at most 30 words.\n",
        "\n",
        "    Review: ```{stay_reviews[i]}```\n",
        "    \"\"\"\n",
        "\n",
        "    response = get_completion(prompt)\n",
        "    print(i, response, \"\\n\")"
      ],
      "metadata": {
        "colab": {
          "base_uri": "https://localhost:8080/"
        },
        "id": "AVvcBRiEB2mv",
        "outputId": "fbbef69b-1f6a-4ec9-e0d1-648b4c06eb78"
      },
      "execution_count": 15,
      "outputs": [
        {
          "output_type": "stream",
          "name": "stdout",
          "text": [
            "0 Summary: Positive review highlighting a great stay, well-equipped place, comfortable in winter, host's details enhance experience. Communication with host can be challenging.\n",
            "\n",
            "Type of guest: Winter traveler \n",
            "\n",
            "1 Summary: Guest had a minor issue with bikes, but Miguel resolved it. The casita is charming with handmade furniture, a cozy sofa outside, and a well-equipped kitchen. Shower had water leakage.\n",
            "\n",
            "Type of guest: Two-day stay guest \n",
            "\n",
            "2 Summary: Guest enjoyed the peaceful and remote domes, well-equipped with comfortable bed, good shower, spacious deck for star gazing, decent kitchen, bikes for exploring, pool for cooling off. Miguel was a helpful host.\n",
            "\n",
            "Type of guest: Satisfied traveler appreciating nature, amenities, and host assistance. \n",
            "\n",
            "3 Type of guest: Dissatisfied with communication and check-in process. \n",
            "\n"
          ]
        }
      ]
    },
    {
      "cell_type": "markdown",
      "source": [
        "## Summary of findings:\n",
        "\n",
        "The summarization is a great way to fast classify reviews and extract the relevant information. I used a Stay in Airbnb with a mix of positive and negative review to see how the model works.\n",
        "\n",
        "Overall the summarization is pretty well, although for the task of amenities it mixes a bit the sentiment about the host behaviour, which is not an amenity of the stay.\n",
        "\n",
        "In this case, a better prompt is needed, specifying to the bot that we are only focusing in house amenities.\n",
        "\n",
        "The tasks about negative and positive sentiments, explaining why, went very well. The bot extracted the key points, and by looking all the reviews, they all point in very similar directions, whether with compliments or criticism for the place.\n",
        "\n",
        "The classification about the type of the host also went pretty well. It's great to get data to make an analysis about what type of guests an stay has and what these guests value the most."
      ],
      "metadata": {
        "id": "z1QKN2opFBUl"
      }
    }
  ],
  "metadata": {
    "kernelspec": {
      "display_name": "Python 3 (ipykernel)",
      "language": "python",
      "name": "python3"
    },
    "language_info": {
      "codemirror_mode": {
        "name": "ipython",
        "version": 3
      },
      "file_extension": ".py",
      "mimetype": "text/x-python",
      "name": "python",
      "nbconvert_exporter": "python",
      "pygments_lexer": "ipython3",
      "version": "3.11.8"
    },
    "colab": {
      "provenance": []
    }
  },
  "nbformat": 4,
  "nbformat_minor": 0
}